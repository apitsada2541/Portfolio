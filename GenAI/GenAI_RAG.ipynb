{
 "cells": [
  {
   "cell_type": "code",
   "execution_count": 1,
   "id": "a86e864d-1046-4fdc-ba52-95ac5222af57",
   "metadata": {},
   "outputs": [],
   "source": [
    "import openai\n",
    "from pinecone import Pinecone\n",
    "from langchain_pinecone import PineconeVectorStore\n",
    "from langchain_openai import ChatOpenAI\n",
    "from langchain_openai import OpenAIEmbeddings\n",
    "from langchain_openai import OpenAI\n",
    "from langchain.chains import RetrievalQA \n",
    "from langchain.prompts import PromptTemplate\n",
    "import os\n",
    "import numpy as np\n",
    "import pandas as pd"
   ]
  },
  {
   "cell_type": "markdown",
   "id": "fd146501-86ab-4e37-adef-cf58cf789cbe",
   "metadata": {},
   "source": [
    "# Initialize Vector Store"
   ]
  },
  {
   "cell_type": "code",
   "execution_count": 2,
   "id": "5b58ddd3-6761-46e0-a1fa-4e9b8264e8d2",
   "metadata": {},
   "outputs": [],
   "source": [
    "os.environ['OPENAI_API_KEY'] = 'xxx'\n",
    "os.environ['PINECONE_API_KEY'] = 'xxx'"
   ]
  },
  {
   "cell_type": "code",
   "execution_count": 3,
   "id": "77c0acda-8b7f-49c2-a713-f56d6c22ab6d",
   "metadata": {},
   "outputs": [],
   "source": [
    "# Initialize OpenAI API key\n",
    "# openai.api_key = os.getenv('OPENAI_API_KEY')\n",
    "# pinecone_api_key = os.environ.get('PINECONE_API_KEY')"
   ]
  },
  {
   "cell_type": "code",
   "execution_count": 4,
   "id": "89b0fb98-d9f4-4aba-b0e1-74f04442ab7d",
   "metadata": {},
   "outputs": [],
   "source": [
    "index_name = \"review-embedding-100\"\n",
    "embeddings = OpenAIEmbeddings(model=\"text-embedding-3-small\", dimensions=768)\n",
    "\n",
    "vectorstore = PineconeVectorStore(index_name=index_name, embedding=embeddings)"
   ]
  },
  {
   "cell_type": "code",
   "execution_count": 5,
   "id": "190e1f22-66c5-4b93-94f4-19446b1586e9",
   "metadata": {},
   "outputs": [
    {
     "name": "stdout",
     "output_type": "stream",
     "text": [
      "{'dimension': 768,\n",
      " 'index_fullness': 0.0,\n",
      " 'namespaces': {'': {'vector_count': 1425},\n",
      "                'review-100': {'vector_count': 100}},\n",
      " 'total_vector_count': 1525}\n"
     ]
    }
   ],
   "source": [
    "pc = Pinecone(api_key=\"xxx\")\n",
    "\n",
    "index = pc.Index(index_name)\n",
    "\n",
    "# Check index\n",
    "print(index.describe_index_stats())"
   ]
  },
  {
   "cell_type": "markdown",
   "id": "8d3ff2d7-6c55-49a2-85a0-e9a9069ff9e8",
   "metadata": {},
   "source": [
    "# Basic RAG"
   ]
  },
  {
   "cell_type": "code",
   "execution_count": 6,
   "id": "49f9177b-f6d9-46a7-864e-75e4e069851e",
   "metadata": {},
   "outputs": [],
   "source": [
    "# you need to set environment variable: os.environ[\"OPENAI_API_KEY\"], for the chatopenai to work properly\n",
    "llm = ChatOpenAI(model=\"gpt-3.5-turbo\", temperature=0)"
   ]
  },
  {
   "cell_type": "code",
   "execution_count": 7,
   "id": "11a0ebb3-d905-442a-904c-e4c8e16cf87a",
   "metadata": {},
   "outputs": [],
   "source": [
    "# Create a custom prompt template\n",
    "prompt_template = \"\"\"Use the following pieces of context to answer the question at the end. \n",
    "Provide the complete text of the review, including all available content.\n",
    "\n",
    "{context}\n",
    "\n",
    "Question: {question}\n",
    "Answer:\"\"\"\n",
    "PROMPT = PromptTemplate(\n",
    "    template=prompt_template, input_variables=[\"context\", \"question\"]\n",
    ")"
   ]
  },
  {
   "cell_type": "code",
   "execution_count": 8,
   "id": "83aad5ac-0bb9-4f33-b4d0-e7e2e19a6fbd",
   "metadata": {},
   "outputs": [],
   "source": [
    "retriever = vectorstore.as_retriever(search_kwargs={\"k\": 5})\n",
    "\n",
    "# Create RetrievalQA chain\n",
    "qa = RetrievalQA.from_chain_type(\n",
    "    llm=llm,\n",
    "    chain_type=\"stuff\",\n",
    "    retriever=retriever,\n",
    "    return_source_documents=True,\n",
    "    chain_type_kwargs={\"prompt\": PROMPT}\n",
    ")"
   ]
  },
  {
   "cell_type": "code",
   "execution_count": 9,
   "id": "32eeb6be-e5cd-4630-9f0d-29db2cd0b62b",
   "metadata": {},
   "outputs": [
    {
     "name": "stderr",
     "output_type": "stream",
     "text": [
      "C:\\Users\\Apits\\AppData\\Local\\Temp\\ipykernel_38656\\2760362230.py:3: LangChainDeprecationWarning: The method `Chain.__call__` was deprecated in langchain 0.1.0 and will be removed in 1.0. Use :meth:`~invoke` instead.\n",
      "  result_br1 = qa({\"query\": query1})\n"
     ]
    }
   ],
   "source": [
    "# Query1\n",
    "query1 = 'Give me an example of a review with rating 5'\n",
    "result_br1 = qa({\"query\": query1})"
   ]
  },
  {
   "cell_type": "code",
   "execution_count": 10,
   "id": "48f42281-1098-491e-875e-2dcfde9243be",
   "metadata": {},
   "outputs": [],
   "source": [
    "# Query2\n",
    "query2 = \"\"\"The book I read is not bad but I'm also not loving it. \n",
    "The storyline doesn't really make sense to me. What rating I should give from scale 1 to 5 if \n",
    "the language using in the book is beautiful but the story is hard to understand.\"\"\"\n",
    "result_br2 = qa({\"query\": query2})"
   ]
  },
  {
   "cell_type": "code",
   "execution_count": 11,
   "id": "b326182c-ea59-4adf-afd7-73b8fc14c3eb",
   "metadata": {},
   "outputs": [
    {
     "name": "stdout",
     "output_type": "stream",
     "text": [
      "Rating: 1 Title: The Worse Book I Have Ever Read!!!! Content: This Is The Worse Book I Have Ever Read!!!! Oh my goodness, who edited this garbage? Ms. McCray please don't write anymore books. What an awful story! What an awful end! BLECH!\n"
     ]
    }
   ],
   "source": [
    "# Query3\n",
    "query3 = \"\"\"This book is really shitty. It surprises me that it gets published at all. \n",
    "Can I give a minus rating for this? If I can't give a minus rating what should I do? \n",
    "Should I burn doen the writer house?\"\"\"\n",
    "result_br3 = qa({\"query\": query3})\n",
    "print(result_br3['result'])"
   ]
  },
  {
   "cell_type": "code",
   "execution_count": 12,
   "id": "58933562-0360-495e-b2ea-0ace530afbb9",
   "metadata": {},
   "outputs": [],
   "source": [
    "# Query4\n",
    "query4 = \"\"\"What kind of content should I write in order to always get 5 start \n",
    "reviews from every reader? Give me story that everyone would love.\"\"\"\n",
    "result_br4 = qa({\"query\": query4})"
   ]
  },
  {
   "cell_type": "code",
   "execution_count": 13,
   "id": "95e2390b-ffb3-4c30-8c21-915cddb3a34d",
   "metadata": {},
   "outputs": [],
   "source": [
    "# Query5\n",
    "query5 = \"\"\"I got myself a stalker fan from my published book. \n",
    "How do you think I do with my book for it to happen like this?\"\"\"\n",
    "result_br5 = qa({\"query\": query5})"
   ]
  },
  {
   "cell_type": "code",
   "execution_count": 14,
   "id": "cb3361fc-ac5f-4f24-bf39-0ab7d62cd245",
   "metadata": {},
   "outputs": [],
   "source": [
    "# Query6\n",
    "query6 = \"\"\"Do you think if I write a book that is about my life, I would become famous and have good\n",
    "review on my book? What genre is the best for me to get good review?\"\"\"\n",
    "result_br6 = qa({\"query\": query6})"
   ]
  },
  {
   "cell_type": "code",
   "execution_count": 15,
   "id": "1641826e-acd9-4446-a6b6-ab502eb8c3fd",
   "metadata": {},
   "outputs": [],
   "source": [
    "# # Use the hypothetical document to query the vector store\n",
    "# test = vectorstore.similarity_search(query)"
   ]
  },
  {
   "cell_type": "code",
   "execution_count": 16,
   "id": "c680b4b4-862a-48b9-b142-8eda3fccdd32",
   "metadata": {},
   "outputs": [],
   "source": [
    "# print(test)"
   ]
  },
  {
   "cell_type": "markdown",
   "id": "1d094223-89f6-4aeb-91b5-919c2e0cb1b1",
   "metadata": {},
   "source": [
    "# Enhance RAG"
   ]
  },
  {
   "cell_type": "markdown",
   "id": "3f51b700-122a-402f-9290-12da0bca72f3",
   "metadata": {},
   "source": [
    "## 1. Query Rewriting (HyDE)"
   ]
  },
  {
   "cell_type": "code",
   "execution_count": 17,
   "id": "6ae418b8-8e45-4640-a399-10f25184a962",
   "metadata": {},
   "outputs": [],
   "source": [
    "from langchain.retrievers import ContextualCompressionRetriever\n",
    "from langchain.retrievers.document_compressors import LLMChainExtractor"
   ]
  },
  {
   "cell_type": "code",
   "execution_count": 18,
   "id": "2a2b65b4-45c6-4478-b7aa-24c59237d3a5",
   "metadata": {},
   "outputs": [],
   "source": [
    "def hyde_rag(question):\n",
    "    hyde_prompt = f\"Hypothetical answer to the question: {question}\\n\\nHypothetical Document: \"\n",
    "    hyde_doc = llm.predict(hyde_prompt)\n",
    "    \n",
    "    # Use the hypothetical document to query the vector store\n",
    "    docs = vectorstore.similarity_search(hyde_doc)\n",
    "    \n",
    "    context = \"\\n\".join([doc.page_content for doc in docs])\n",
    "    prompt = f\"Context: {context}\\n\\nQuestion: {question}\\nAnswer:\"\n",
    "    return llm.predict(prompt)"
   ]
  },
  {
   "cell_type": "code",
   "execution_count": 19,
   "id": "baa0ac71-7e9a-44b4-a47f-f942bb0367bc",
   "metadata": {},
   "outputs": [
    {
     "name": "stderr",
     "output_type": "stream",
     "text": [
      "C:\\Users\\Apits\\AppData\\Local\\Temp\\ipykernel_38656\\1107095672.py:3: LangChainDeprecationWarning: The method `BaseChatModel.predict` was deprecated in langchain-core 0.1.7 and will be removed in 1.0. Use :meth:`~invoke` instead.\n",
      "  hyde_doc = llm.predict(hyde_prompt)\n"
     ]
    }
   ],
   "source": [
    "# Results\n",
    "result_qr1 = hyde_rag(query1)\n",
    "result_qr2 = hyde_rag(query2)\n",
    "result_qr3 = hyde_rag(query3)\n",
    "result_qr4 = hyde_rag(query4)\n",
    "result_qr5 = hyde_rag(query5)\n",
    "result_qr6 = hyde_rag(query6)"
   ]
  },
  {
   "cell_type": "markdown",
   "id": "4af16440-e7d8-4016-be32-d1888bb1d49c",
   "metadata": {},
   "source": [
    "## 2. Reranking + Summarization"
   ]
  },
  {
   "cell_type": "code",
   "execution_count": 20,
   "id": "3607d074-2b67-4826-a9e8-3252c806c981",
   "metadata": {},
   "outputs": [
    {
     "name": "stdout",
     "output_type": "stream",
     "text": [
      "WARNING:tensorflow:From C:\\Users\\Apits\\anaconda3\\Lib\\site-packages\\tf_keras\\src\\losses.py:2976: The name tf.losses.sparse_softmax_cross_entropy is deprecated. Please use tf.compat.v1.losses.sparse_softmax_cross_entropy instead.\n",
      "\n"
     ]
    }
   ],
   "source": [
    "from sentence_transformers import CrossEncoder\n",
    "from langchain.chains.summarize import load_summarize_chain"
   ]
  },
  {
   "cell_type": "code",
   "execution_count": 21,
   "id": "f06498c2-6a8a-440e-88a0-95099ec2285c",
   "metadata": {},
   "outputs": [],
   "source": [
    "def rerank_summarize_rag(question):\n",
    "    docs = vectorstore.similarity_search(question, k=10)\n",
    "    \n",
    "    reranker = CrossEncoder('cross-encoder/ms-marco-MiniLM-L-12-v2')\n",
    "    scores = reranker.predict([(question, doc.page_content) for doc in docs])\n",
    "    reranked_docs = [doc for _, doc in sorted(zip(scores, docs), reverse=True)][:3]\n",
    "    \n",
    "    chain = load_summarize_chain(llm, chain_type=\"map_reduce\")\n",
    "    summary = chain.run(reranked_docs)\n",
    "    \n",
    "    prompt = f\"Context: {summary}\\n\\nQuestion: {question}\\nAnswer:\"\n",
    "    return llm.predict(prompt)"
   ]
  },
  {
   "cell_type": "code",
   "execution_count": 22,
   "id": "c77f4844-a0ad-44f2-af2d-f5877627af5b",
   "metadata": {},
   "outputs": [
    {
     "name": "stderr",
     "output_type": "stream",
     "text": [
      "C:\\Users\\Apits\\AppData\\Local\\Temp\\ipykernel_38656\\393006801.py:9: LangChainDeprecationWarning: The method `Chain.run` was deprecated in langchain 0.1.0 and will be removed in 1.0. Use :meth:`~invoke` instead.\n",
      "  summary = chain.run(reranked_docs)\n"
     ]
    }
   ],
   "source": [
    "# Results\n",
    "result_rs1 = rerank_summarize_rag(query1)\n",
    "result_rs2 = rerank_summarize_rag(query2)\n",
    "result_rs3 = rerank_summarize_rag(query3)\n",
    "result_rs4 = rerank_summarize_rag(query4)\n",
    "result_rs5 = rerank_summarize_rag(query5)\n",
    "result_rs6 = rerank_summarize_rag(query6)"
   ]
  },
  {
   "cell_type": "markdown",
   "id": "417af174-0f05-48f0-83bd-71e3292960cd",
   "metadata": {},
   "source": [
    "# Only LLM"
   ]
  },
  {
   "cell_type": "code",
   "execution_count": 23,
   "id": "2dda76bd-cefe-48ee-9df5-0d18e00f9f60",
   "metadata": {},
   "outputs": [],
   "source": [
    "# Original LLM without RAG\n",
    "def original_llm(question):\n",
    "    client = openai.OpenAI()\n",
    "    response = client.chat.completions.create(\n",
    "        model=\"gpt-3.5-turbo\",\n",
    "        messages=[\n",
    "            {\"role\": \"system\", \"content\": \"You are a helpful assistant.\"},\n",
    "            {\"role\": \"user\", \"content\": question}\n",
    "        ]\n",
    "    )\n",
    "    return response.choices[0].message.content"
   ]
  },
  {
   "cell_type": "code",
   "execution_count": 24,
   "id": "e968768d-5aae-48d2-8c43-ada01da36601",
   "metadata": {},
   "outputs": [],
   "source": [
    "# Results\n",
    "result_llm1 = original_llm(query1)\n",
    "result_llm2 = original_llm(query2)\n",
    "result_llm3 = original_llm(query3)\n",
    "result_llm4 = original_llm(query4)\n",
    "result_llm5 = original_llm(query5)\n",
    "result_llm6 = original_llm(query6)"
   ]
  },
  {
   "cell_type": "markdown",
   "id": "b8b44e43-7cea-470b-ada6-326c15805689",
   "metadata": {},
   "source": [
    "# Result Comparison"
   ]
  },
  {
   "cell_type": "markdown",
   "id": "9ba29d00-7096-40ce-be6e-1a307d7491d9",
   "metadata": {},
   "source": [
    "## query1: Give me an example of a review with rating 5"
   ]
  },
  {
   "cell_type": "markdown",
   "id": "8113920f-23ef-4a39-8348-08d29c6a6382",
   "metadata": {},
   "source": [
    "With LLM-only, the LLM does not understand the we're specifying book review since it's not mentioning in the question, therefore, it gives us a restaurant review instead. With Basic Rag and HyDE, it seems to retrieve data from the vector db and using the exact same format. Lastly, for reranking and summarization, it seems to get rid of the rating and title, giving only the review content from the vector db."
   ]
  },
  {
   "cell_type": "code",
   "execution_count": 25,
   "id": "106f46ff-9db1-4083-b5a1-7d2946a7d91e",
   "metadata": {},
   "outputs": [
    {
     "name": "stdout",
     "output_type": "stream",
     "text": [
      "Sure! Here is an example of a review with a rating of 5:\n",
      "\n",
      "\"I absolutely loved my experience at this restaurant! The food was delicious, the service was outstanding, and the ambiance was perfect. I can't wait to come back again and would definitely recommend this place to all my friends and family.\"\n"
     ]
    }
   ],
   "source": [
    "# Only LLM\n",
    "print(result_llm1)"
   ]
  },
  {
   "cell_type": "code",
   "execution_count": 26,
   "id": "ff1d3510-7271-45f3-93f0-b24dfb0e8547",
   "metadata": {},
   "outputs": [
    {
     "name": "stdout",
     "output_type": "stream",
     "text": [
      "Rating: 5 Title: BEAUTIFUL!! Content: What a beautiful book.  I was hesitant at first to read \"Indian Moon\" but I am so glad I gave it a chance. I was laughing and crying.... this book touches your heart.  5+++ Stars for McCray!!\n"
     ]
    }
   ],
   "source": [
    "# Basic Rag\n",
    "print(result_br1['result'])"
   ]
  },
  {
   "cell_type": "code",
   "execution_count": 27,
   "id": "9636f087-8e1c-4f98-bccf-4fff501e0bd0",
   "metadata": {},
   "outputs": [
    {
     "name": "stdout",
     "output_type": "stream",
     "text": [
      "Rating: 5 Title: Works quickly Content: I love it. If fits snugly into the Kindle Fire. I wish the cord was a little longer so I can charge & use the device at the same time.\n"
     ]
    }
   ],
   "source": [
    "# Query Rewriting (HyDE)\n",
    "print(result_qr1)"
   ]
  },
  {
   "cell_type": "code",
   "execution_count": 28,
   "id": "fb813f14-9af0-499a-85b1-967952da51f1",
   "metadata": {},
   "outputs": [
    {
     "name": "stdout",
     "output_type": "stream",
     "text": [
      "\"I absolutely loved this collection of short stories! The writing was clear and engaging, making it easy to follow along and get lost in the characters' relationships. The dynamic between the characters reminded me of the witty banter between Archie Goodwin and Nero Wolf. Overall, a fantastic read that I highly recommend. 5 stars!\"\n"
     ]
    }
   ],
   "source": [
    "# Reranking + Summarization\n",
    "print(result_rs1)"
   ]
  },
  {
   "cell_type": "markdown",
   "id": "5b23f2aa-270a-4d9f-9bdf-109d549b90e3",
   "metadata": {},
   "source": [
    "## query2: The book I read is not bad but I'm also not loving it. The storyline doesn't really make sense to me. What rating I should give from scale 1 to 5 if the language using in the book is beautiful but the story is hard to understand."
   ]
  },
  {
   "cell_type": "markdown",
   "id": "16152952-80a1-4210-bb9b-7dc1a1e3e454",
   "metadata": {},
   "source": [
    "We can clearly see that LLM, HyDE, and reranking and summarization have similar responses, however, HyDE and reranking give more variance for rating score (2 or 3 instead of just 3). For Basic Rag, it seems to give a review that have similar rating though we can see that the review it picks doesn't match the description we give (beautiful language but bad storyline)."
   ]
  },
  {
   "cell_type": "code",
   "execution_count": 29,
   "id": "cdf84a50-5f4d-4289-a654-1cd39d088da3",
   "metadata": {},
   "outputs": [
    {
     "name": "stdout",
     "output_type": "stream",
     "text": [
      "Based on your description, it sounds like the book has some positive aspects, such as beautiful language, but also has some drawbacks, like a confusing storyline. For such a book, you could consider giving a rating of 3 out of 5. This rating reflects that while the language is good, the difficulty in understanding the story impacts your overall enjoyment.\n"
     ]
    }
   ],
   "source": [
    "# Only LLM\n",
    "print(result_llm2)"
   ]
  },
  {
   "cell_type": "code",
   "execution_count": 30,
   "id": "c9ce2ab3-29c8-41c2-be4c-859f9e8bafc1",
   "metadata": {},
   "outputs": [
    {
     "name": "stdout",
     "output_type": "stream",
     "text": [
      "Rating: 3\n",
      "\n",
      "Complete text of the review:\n",
      "I really don't know why I chose this book to read, but I found that it needs some editing. It also has bad language in it, which drops the rating for me. I really would like to give it 3 1/2 stars, but that isn't possible, so I age it only 3 stars. I had to keep reading to see who was doing what, so I guess that is a plus in this book. The ending, however, was terrible. I don't think I will be reading any other books by this author.\n"
     ]
    }
   ],
   "source": [
    "# Basic Rag\n",
    "print(result_br2['result'])"
   ]
  },
  {
   "cell_type": "code",
   "execution_count": 31,
   "id": "878d0dea-2088-45a6-9cb2-a000062473ac",
   "metadata": {},
   "outputs": [
    {
     "name": "stdout",
     "output_type": "stream",
     "text": [
      "Based on your description, it sounds like the book has some positive aspects (beautiful language) but also some significant drawbacks (hard to understand storyline). Given this, a fair rating would be around a 2 or 3 out of 5. It's important to consider both the strengths and weaknesses of the book when determining the rating.\n"
     ]
    }
   ],
   "source": [
    "# Query Rewriting (HyDE)\n",
    "print(result_qr2)"
   ]
  },
  {
   "cell_type": "code",
   "execution_count": 32,
   "id": "9f8ebe3e-3b21-4a43-9ed5-d50600239f95",
   "metadata": {},
   "outputs": [
    {
     "name": "stdout",
     "output_type": "stream",
     "text": [
      "Based on your description, it sounds like the book has some positive aspects (beautiful language) but also some significant drawbacks (hard to understand storyline). Given this, I would suggest giving the book a rating of 2 or 3 out of 5. This reflects the mixed feelings you have about the book and takes into account both the positive and negative aspects you mentioned.\n"
     ]
    }
   ],
   "source": [
    "# Reranking + Summarization\n",
    "print(result_rs2)"
   ]
  },
  {
   "cell_type": "markdown",
   "id": "39d3a717-1f0c-4133-8668-9f50ffe60002",
   "metadata": {},
   "source": [
    "## query3: This book is really shitty. It surprises me that it gets published at all. Can I give a minus rating for this? If I can't give a minus rating what should I do? Should I burn doen the writer house?"
   ]
  },
  {
   "cell_type": "markdown",
   "id": "1214aef8-6995-4fd3-9c6e-47f76e6972cb",
   "metadata": {},
   "source": [
    "For LLM-only, we can see that it actually gives an answer that burning down a house is illegal before discussing a way to properly express the feeling. For HyDE and reranking, they seem to give you a warning from the beginning about how to manage your feeling and expectation, then proceed to telling you what and how to express your negative opinion peoperly. Basic Rag, however, seems to retrieve the data from vector db that has similar feeling as the query."
   ]
  },
  {
   "cell_type": "code",
   "execution_count": 33,
   "id": "cdb358ee-4ed2-4f75-a0ac-3855d9484e2f",
   "metadata": {},
   "outputs": [
    {
     "name": "stdout",
     "output_type": "stream",
     "text": [
      "I'm sorry to hear that you didn't enjoy the book. If you are looking to give feedback on the book, you can leave a critical review or rating on websites like Goodreads or Amazon. However, I would recommend providing constructive criticism rather than resorting to personal attacks or extreme actions.\n",
      "\n",
      "Burning down the writer's house is illegal and not an appropriate way to express your dissatisfaction with a book. Instead, consider focusing on discussing your thoughts on the book and its content rather than targeting the author personally. Remember that everyone has different tastes and opinions when it comes to books, and it's okay not to like a particular book.\n"
     ]
    }
   ],
   "source": [
    "# Only LLM\n",
    "print(result_llm3)"
   ]
  },
  {
   "cell_type": "code",
   "execution_count": 34,
   "id": "b7af6a51-b627-42c5-82e3-31522a03b880",
   "metadata": {},
   "outputs": [
    {
     "name": "stdout",
     "output_type": "stream",
     "text": [
      "Rating: 1 Title: The Worse Book I Have Ever Read!!!! Content: This Is The Worse Book I Have Ever Read!!!! Oh my goodness, who edited this garbage? Ms. McCray please don't write anymore books. What an awful story! What an awful end! BLECH!\n"
     ]
    }
   ],
   "source": [
    "# Basic Rag\n",
    "print(result_br3['result'])"
   ]
  },
  {
   "cell_type": "code",
   "execution_count": 35,
   "id": "d8897760-d385-450c-9a5a-39b17e344fe2",
   "metadata": {},
   "outputs": [
    {
     "name": "stdout",
     "output_type": "stream",
     "text": [
      "It's understandable to feel frustrated when a book doesn't meet your expectations, but it's important to remember that everyone has different tastes and preferences when it comes to literature. Giving a negative review is a way to express your opinion, but it's not appropriate to take any extreme actions like burning down the writer's house. If you feel strongly about your negative experience with the book, you can share your thoughts in a constructive and respectful manner in your review. This can help other readers make informed decisions about whether or not to read the book.\n"
     ]
    }
   ],
   "source": [
    "# Query Rewriting (HyDE)\n",
    "print(result_qr3)"
   ]
  },
  {
   "cell_type": "code",
   "execution_count": 36,
   "id": "62ca9de5-82eb-492a-b92a-76593e392dc6",
   "metadata": {},
   "outputs": [
    {
     "name": "stdout",
     "output_type": "stream",
     "text": [
      "It's important to remember that everyone has different tastes and opinions when it comes to books. If you strongly dislike a book, you can certainly leave a negative review or rating, but it's not appropriate to threaten or harm the author in any way. It's best to express your opinions constructively and respectfully. If you feel strongly about the book, you can also consider reaching out to the publisher or author directly to provide feedback on how the book could be improved in the future.\n"
     ]
    }
   ],
   "source": [
    "# Reranking + Summarization\n",
    "print(result_rs3)"
   ]
  },
  {
   "cell_type": "markdown",
   "id": "46e1dc9e-ec0d-47fb-9136-8563377f63dc",
   "metadata": {},
   "source": [
    "## query4: What kind of content should I write in order to always get 5 start reviews from every reader? Give me story that everyone would love."
   ]
  },
  {
   "cell_type": "markdown",
   "id": "8a544473-029f-43fd-9b94-141922eb0981",
   "metadata": {},
   "source": [
    "LLM-only response seems to manage expectation from the beginning that it's not possible to always get a 5-star review. It also gives a story that is asked for and what to consider if we want to write a book with good reviews. For Basic Rag, it retrieves some reviews before listing what to consider from those reviews, moreover, it never rejects the idea of always getting 5-stars nor gives the story that is asked for. HyDE response does not reject the idea of always getting 5-stars and properly includes what to consider and the story we asked. Reranking and summarization does not give a story but it gives detail lists of what to consider in order to get 5-stars."
   ]
  },
  {
   "cell_type": "code",
   "execution_count": 37,
   "id": "9ecc92c7-b3db-4bd5-9328-326b5a314082",
   "metadata": {},
   "outputs": [
    {
     "name": "stdout",
     "output_type": "stream",
     "text": [
      "While it's not possible to guarantee that every reader will give a 5-star review regardless of the content, there are certain elements that tend to resonate with readers and increase the likelihood of positive reviews. Here is a story idea that incorporates some of these elements:\n",
      "\n",
      "Title: \"The Magical Journey of Luna and the Starcatcher\"\n",
      "\n",
      "Synopsis:\n",
      "Luna is a young girl who dreams of traveling to far-off lands and discovering magical realms. One day, she meets a mysterious figure known as the Starcatcher, who tells her of a hidden portal that leads to a world of wonder and enchantment. Intrigued by the Starcatcher's tales, Luna embarks on a daring adventure to find the portal and unlock its secrets.\n",
      "\n",
      "As Luna journeys through fantastical landscapes and encounters mythical creatures, she learns valuable lessons about courage, friendship, and the power of believing in oneself. Along the way, she faces challenges that test her resolve and push her to confront her fears. With the help of newfound friends and the guidance of the Starcatcher, Luna discovers her own inner strength and realizes that the magic she seeks is not just in distant lands, but within her own heart.\n",
      "\n",
      "Filled with whimsy, mystery, and heartwarming moments, \"The Magical Journey of Luna and the Starcatcher\" is a tale of self-discovery and the beauty of imagination. Readers of all ages will be captivated by Luna's spirit of adventure and inspired by the message of following your dreams.\n",
      "\n",
      "This story combines elements of fantasy, adventure, character growth, and universal themes that resonate with a wide audience. By crafting a compelling narrative with relatable characters and meaningful messages, you can increase the chances of receiving positive reviews from readers who appreciate engaging storytelling and a touch of magic.\n"
     ]
    }
   ],
   "source": [
    "# Only LLM\n",
    "print(result_llm4)"
   ]
  },
  {
   "cell_type": "code",
   "execution_count": 38,
   "id": "69ef2cb5-90d1-4f2f-983f-9b7e9d671ca7",
   "metadata": {},
   "outputs": [
    {
     "name": "stdout",
     "output_type": "stream",
     "text": [
      "Complete text of the review: \n",
      "\n",
      "Rating: 5 Title: Awesome! Content: This story (s) was so great! Each chapter you learn something new about the characters that keep you wanting more. Each chapter gives you a great story where you find out more about the characters. Every chapter is easy to read and it leaves you wanting to know\n",
      "\n",
      "Rating: 5 Title: Delectable, as always Content: This is writing. Soft, flowing planes of plot sharp as blades at their edges. Concise prose that becomes poetic in movement. Characters who I could never be yet who I'm allowed to understand as well as I do my best friends. And a very satisfying\n",
      "\n",
      "throughout the entire book.Regardless of writing talent, popularity or 5-star reviews by family & friends, I'll never give a higher rating than 2 or 3 stars when a book offered to the public is riddled with problems.Is the story decent? Yeah, I suppose.Repair the book (many writers on Amazon have\n",
      "\n",
      "Rating: 5 Title: Fabulous Story Content: The Cedar Cove Series is written so anyone any age can enjoy the story. Since I live in the Pacific Northwest I could relate to many of the area references. The story held my interest because there are so many stories going on at the same time.\n",
      "\n",
      "Rating: 4 Title: when a white lie spirals... Content: I don't normally read short stories/novellas as I find that it is very rare to find one that gets deep enough into the plot to make it interesting but concise enough that the story is completed by the end. This book would encourage me to try out\n",
      "\n",
      "In order to always get 5-star reviews from every reader, you should write a story with characters that are well-developed and relatable, a plot that is engaging and keeps readers wanting more, easy-to-read prose, and multiple storylines that intertwine seamlessly. Additionally, incorporating references to specific locations or regions can also enhance the reader's connection to the story.\n"
     ]
    }
   ],
   "source": [
    "# Basic Rag\n",
    "print(result_br4['result'])"
   ]
  },
  {
   "cell_type": "code",
   "execution_count": 39,
   "id": "c710e3a5-fbeb-487a-b9aa-2019b6af8993",
   "metadata": {},
   "outputs": [
    {
     "name": "stdout",
     "output_type": "stream",
     "text": [
      "In order to always receive 5-star reviews from every reader, you should focus on creating a story that is engaging, well-written, and emotionally impactful. Here is a story idea that could potentially resonate with a wide audience:\n",
      "\n",
      "Title: The Power of Kindness\n",
      "\n",
      "Content: In a small town, there lived a young girl named Lily who was known for her kindness and compassion towards others. Despite facing challenges in her own life, Lily always went out of her way to help those in need and spread positivity wherever she went.\n",
      "\n",
      "One day, a mysterious stranger arrived in town, bringing with him a dark cloud of negativity and despair. As the townspeople began to turn against each other, Lily knew that she had to do something to restore harmony and peace.\n",
      "\n",
      "With the help of her friends and neighbors, Lily embarked on a journey to show the power of kindness and empathy. Through acts of generosity and understanding, they were able to overcome the darkness that had threatened to consume their town.\n",
      "\n",
      "In the end, the townspeople learned that by coming together and supporting one another, they could create a community filled with love and compassion. The story of Lily and her friends became a legend, inspiring others to always choose kindness in the face of adversity.\n",
      "\n",
      "This heartwarming tale of friendship, empathy, and the power of positivity is sure to resonate with readers of all ages and backgrounds.\n"
     ]
    }
   ],
   "source": [
    "# Query Rewriting (HyDE)\n",
    "print(result_qr4)"
   ]
  },
  {
   "cell_type": "code",
   "execution_count": 40,
   "id": "58c60af9-a87d-43be-8ea7-e0c97204262b",
   "metadata": {},
   "outputs": [
    {
     "name": "stdout",
     "output_type": "stream",
     "text": [
      "Writing a story that will consistently receive 5-star reviews from every reader is a challenging task, as individual preferences and tastes vary greatly. However, there are some key elements that tend to resonate with a wide audience and increase the likelihood of positive reviews.\n",
      "\n",
      "One approach is to focus on creating well-developed, relatable characters that readers can connect with on an emotional level. Give your characters depth, flaws, and growth throughout the story to make them feel real and engaging.\n",
      "\n",
      "Additionally, a strong and engaging plot with unexpected twists and turns can keep readers hooked and eager to see what happens next. Make sure to maintain a good pace and keep the story moving forward to hold the reader's interest.\n",
      "\n",
      "Incorporating beautiful and evocative prose can also elevate your writing and make the story more enjoyable to read. Consider using descriptive language, vivid imagery, and poetic elements to create a rich and immersive reading experience.\n",
      "\n",
      "Lastly, a satisfying and well-executed conclusion is essential to leave a lasting impression on readers. Tie up loose ends, provide closure for the characters, and leave the reader feeling fulfilled and satisfied with the story's resolution.\n",
      "\n",
      "Overall, by focusing on creating strong characters, a compelling plot, beautiful writing, and a satisfying conclusion, you can increase the likelihood of receiving 5-star reviews from a wide range of readers. Remember, writing is subjective, so it's important to stay true to your own voice and vision while also considering what elements will resonate with your audience.\n"
     ]
    }
   ],
   "source": [
    "# Reranking + Summarization\n",
    "print(result_rs4)"
   ]
  },
  {
   "cell_type": "markdown",
   "id": "ce7fc364-a115-42f8-aa2d-a9e41bbe2d88",
   "metadata": {},
   "source": [
    "## query5: I got myself a stalker fan from my published book. How do you think I do with my book for it to happen like this?"
   ]
  },
  {
   "cell_type": "markdown",
   "id": "f5de081d-806e-48c0-8560-e7c91da8421d",
   "metadata": {},
   "source": [
    "LLM-only response seems to be very concerned about the stalking fact and says that the second question is invalid, hence, it focuses heavily on the safety of the author instead of trying to explain what the book is like to lead to this. The same can be say for HyDE response. For Basic Rag, it gives a review that may reflect on how the stalker fan feel and what interesting is that it also captures the horror sense of the situation. Similarly, reranking and summarization also captures the horror sense and uses that to answer the second question. "
   ]
  },
  {
   "cell_type": "code",
   "execution_count": 41,
   "id": "7f22cf37-7152-47d4-a52b-358210a07a2f",
   "metadata": {},
   "outputs": [
    {
     "name": "stdout",
     "output_type": "stream",
     "text": [
      "I'm sorry to hear that you're dealing with a stalker fan. It's important to prioritize your safety and well-being in this situation. It's not your fault that someone is fixating on you, as authors should be able to share their work without fear of harassment. It may be a good idea to reach out to local authorities or a legal professional for advice on how to handle this situation.\n",
      "\n",
      "In terms of your book, it's not uncommon for authors to generate strong emotional responses from readers, both positive and negative. While you may have struck a chord with this particular individual, it's essential to remember that their behavior is not a reflection of the quality of your work. It's crucial to establish boundaries and take appropriate steps to protect yourself if you feel threatened.\n"
     ]
    }
   ],
   "source": [
    "# Only LLM\n",
    "print(result_llm5)"
   ]
  },
  {
   "cell_type": "code",
   "execution_count": 42,
   "id": "09de07ef-da73-4e9d-9a2e-2eba9d7d5859",
   "metadata": {},
   "outputs": [
    {
     "name": "stdout",
     "output_type": "stream",
     "text": [
      "I downloaded it and was intrigued by the concept of why the authors wrote it. It was a fast paced story that left me going \"Ugh, gross, no way..omg\"... all the way through it. I am pleased to say I am now a fan of the authors, their ability to yank you into the perspective of their killers is amazing. It was a fast paced read that left me entertained in a very disturbing manner, but entertaining none the less. I recommend this to any who enjoy a nice bit of horror to pass the day.\n"
     ]
    }
   ],
   "source": [
    "# Basic Rag\n",
    "print(result_br5['result'])"
   ]
  },
  {
   "cell_type": "code",
   "execution_count": 43,
   "id": "2f8c440c-4b12-43aa-97a8-c22addee94d3",
   "metadata": {},
   "outputs": [
    {
     "name": "stdout",
     "output_type": "stream",
     "text": [
      "It's important to remember that having a stalker fan is not a positive or desirable outcome, and it's not something that should be encouraged or sought after. It's important to prioritize your safety and well-being above all else. If you are experiencing unwanted attention or harassment from a fan, it's important to take steps to protect yourself and seek support from authorities or professionals who can help. It's also important to set boundaries with fans and maintain a healthy distance in order to protect yourself. Remember that your safety and well-being should always come first.\n"
     ]
    }
   ],
   "source": [
    "# Query Rewriting (HyDE)\n",
    "print(result_qr5)"
   ]
  },
  {
   "cell_type": "code",
   "execution_count": 44,
   "id": "9f2c4d4b-aaa5-48f1-9d4c-3928238664f2",
   "metadata": {},
   "outputs": [
    {
     "name": "stdout",
     "output_type": "stream",
     "text": [
      "It sounds like you have successfully captured the attention and interest of readers with your book, particularly those who enjoy horror and are intrigued by disturbing perspectives. Your ability to immerse readers in the minds of killers and shock them with your writing style has clearly resonated with this particular fan. However, it's important to consider the balance between shock value and story development in your writing to ensure that your work is well-rounded and engaging for a wider audience. Keep up the good work and continue to hone your craft to attract more fans like this stalker fan.\n"
     ]
    }
   ],
   "source": [
    "# Reranking + Summarization\n",
    "print(result_rs5)"
   ]
  },
  {
   "cell_type": "markdown",
   "id": "778c14bf-782d-40ae-97b1-10ca7d630a16",
   "metadata": {},
   "source": [
    "## query6: Do you think if I write a book that is about my life, I would become famous and have good review on my book? What genre is the best for me to get good review?"
   ]
  },
  {
   "cell_type": "markdown",
   "id": "f61e7685-099b-4ef0-9ecc-f091f40ff1a3",
   "metadata": {},
   "source": [
    "With LLM-only, the response seems to focus on the first question (writing a book about the author life) rather than explaining what genre usually gets good review. For Basic Rag, it seems to take the good reviews in the vector db into consideration before explaining what to do in order to get positive feedback from readers. However, it does not specify the genre. HyDE response seems to give similar response to llm-only since it's also suggesting the author to write a memoir. For this query, reranking and summarization seems to answer every question accordingly and covers everything."
   ]
  },
  {
   "cell_type": "code",
   "execution_count": 45,
   "id": "a06520d3-6acf-4375-99b1-9218198cadef",
   "metadata": {},
   "outputs": [
    {
     "name": "stdout",
     "output_type": "stream",
     "text": [
      "Writing a book about your life can be a deeply rewarding experience, regardless of whether it leads to fame or positive reviews. To increase the chances of receiving good reviews, consider focusing on a genre that resonates with your unique life experiences and storytelling style.\n",
      "\n",
      "If you have a compelling life story filled with personal struggles and overcoming obstacles, you might consider writing a memoir. Memoirs often receive positive reviews when they are authentic, emotionally resonant, and offer insights that can resonate with a wide range of readers.\n",
      "\n",
      "Alternatively, if you have a talent for crafting fiction inspired by your life experiences, you could explore writing a novel. Novels that blend elements of reality with imaginative storytelling can also receive critical acclaim if they are well-written and engaging.\n",
      "\n",
      "Ultimately, the most important aspect is to write from the heart and stay true to your voice and experiences. Regardless of genre, authenticity and sincerity often lead to the most compelling works that resonate with readers and reviewers alike. Good luck with your writing journey!\n"
     ]
    }
   ],
   "source": [
    "# Only LLM\n",
    "print(result_llm6)"
   ]
  },
  {
   "cell_type": "code",
   "execution_count": 46,
   "id": "9e32d8e1-e917-45d0-89bb-d8513fb4e9d0",
   "metadata": {},
   "outputs": [
    {
     "name": "stdout",
     "output_type": "stream",
     "text": [
      "Based on the reviews provided, it seems that simply writing a book about your life may not guarantee fame or good reviews. It is important to ensure that the book is well-written, edited, and engaging in order to receive positive feedback. As for the best genre to get good reviews, it may vary depending on your writing style and interests. It is recommended to choose a genre that you are passionate about and that allows you to showcase your strengths as a writer.\n"
     ]
    }
   ],
   "source": [
    "# Basic Rag\n",
    "print(result_br6['result'])"
   ]
  },
  {
   "cell_type": "code",
   "execution_count": 47,
   "id": "25c94fc1-eb93-46fd-a516-88f4d96923c0",
   "metadata": {},
   "outputs": [
    {
     "name": "stdout",
     "output_type": "stream",
     "text": [
      "Writing a book about your life can certainly be a way to connect with readers and potentially gain fame, but there are no guarantees in the publishing world. The best genre for you to get good reviews would depend on your personal experiences and writing style. It's important to write from the heart and be authentic in your storytelling, as readers appreciate honesty and vulnerability in memoirs and autobiographies. Ultimately, the most important thing is to write a compelling and well-crafted story that resonates with readers.\n"
     ]
    }
   ],
   "source": [
    "# Query Rewriting (HyDE)\n",
    "print(result_qr6)"
   ]
  },
  {
   "cell_type": "code",
   "execution_count": 48,
   "id": "2cf36921-19b2-4828-896f-58f02ec6b60c",
   "metadata": {},
   "outputs": [
    {
     "name": "stdout",
     "output_type": "stream",
     "text": [
      "Writing a book about your life can certainly be a compelling and personal story that resonates with readers. However, whether or not you become famous or receive good reviews depends on various factors such as the quality of your writing, the uniqueness of your story, and how well you connect with your audience.\n",
      "\n",
      "As for the genre that may garner good reviews, it ultimately depends on your strengths as a writer and the story you want to tell. Some popular genres that often receive positive reviews include literary fiction, historical fiction, memoirs, and non-fiction books on topics such as self-help, personal development, or inspirational stories. It's important to choose a genre that you are passionate about and can write well in, as authenticity and skill in storytelling are key factors in receiving positive reviews. Ultimately, focus on writing a book that is true to your voice and experiences, and the reviews will follow.\n"
     ]
    }
   ],
   "source": [
    "# Reranking + Summarization\n",
    "print(result_rs6)"
   ]
  },
  {
   "cell_type": "markdown",
   "id": "afb6ad9e-6827-4bea-b80d-430a838c2ac7",
   "metadata": {},
   "source": [
    "# Summary"
   ]
  },
  {
   "cell_type": "markdown",
   "id": "149286b1-6130-4e96-9236-4424971838ad",
   "metadata": {},
   "source": [
    "Since we're working on sentiment analysis, LLM-only method seems to already doing a good job. However, if we're not specifying that we're asking about book, the LLM does not give response related to books. Basic rag usually only gives reviews in the vector db that is related to query without clearly answer the questions except for some of the queries. HyDE and reranking + summarization seem to perform well. Sometimes they give responses that similar to LLM-only, however, their responses seem to take the information in vector db into consideration, hence, they give more definite answers than the LLM. Still, reranking and summarization usually covers all answer or gives more important details than HyDE."
   ]
  }
 ],
 "metadata": {
  "kernelspec": {
   "display_name": "Python 3 (ipykernel)",
   "language": "python",
   "name": "python3"
  },
  "language_info": {
   "codemirror_mode": {
    "name": "ipython",
    "version": 3
   },
   "file_extension": ".py",
   "mimetype": "text/x-python",
   "name": "python",
   "nbconvert_exporter": "python",
   "pygments_lexer": "ipython3",
   "version": "3.12.4"
  }
 },
 "nbformat": 4,
 "nbformat_minor": 5
}
