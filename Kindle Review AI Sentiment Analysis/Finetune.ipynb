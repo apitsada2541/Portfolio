{
 "cells": [
  {
   "cell_type": "code",
   "execution_count": 1,
   "id": "08e34df8-ef0c-441c-be12-55bcf05328d3",
   "metadata": {},
   "outputs": [
    {
     "name": "stdout",
     "output_type": "stream",
     "text": [
      "WARNING:tensorflow:From C:\\Users\\Apits\\anaconda3\\Lib\\site-packages\\tf_keras\\src\\losses.py:2976: The name tf.losses.sparse_softmax_cross_entropy is deprecated. Please use tf.compat.v1.losses.sparse_softmax_cross_entropy instead.\n",
      "\n"
     ]
    }
   ],
   "source": [
    "import pandas as pd\n",
    "from transformers import pipeline, AutoModelForCausalLM, AutoTokenizer, Trainer, TrainingArguments\n",
    "import torch\n",
    "import json\n",
    "import os\n",
    "from peft import LoraConfig, get_peft_model\n",
    "from datasets import Dataset"
   ]
  },
  {
   "cell_type": "code",
   "execution_count": 2,
   "id": "94a3b2c2-3958-4fb8-94c6-aea76ebfecfc",
   "metadata": {},
   "outputs": [],
   "source": [
    "# Load data from Excel file \n",
    "df = pd.read_csv(\"500_review.csv\")\n",
    "test_df = pd.read_csv(\"test_review.csv\")"
   ]
  },
  {
   "cell_type": "code",
   "execution_count": 3,
   "id": "a3ab6580-15d9-4770-8d5b-e19be60aa435",
   "metadata": {},
   "outputs": [
    {
     "data": {
      "text/html": [
       "<div>\n",
       "<style scoped>\n",
       "    .dataframe tbody tr th:only-of-type {\n",
       "        vertical-align: middle;\n",
       "    }\n",
       "\n",
       "    .dataframe tbody tr th {\n",
       "        vertical-align: top;\n",
       "    }\n",
       "\n",
       "    .dataframe thead th {\n",
       "        text-align: right;\n",
       "    }\n",
       "</style>\n",
       "<table border=\"1\" class=\"dataframe\">\n",
       "  <thead>\n",
       "    <tr style=\"text-align: right;\">\n",
       "      <th></th>\n",
       "      <th>Unnamed: 0</th>\n",
       "      <th>rating</th>\n",
       "      <th>reviewText</th>\n",
       "      <th>summary</th>\n",
       "      <th>review</th>\n",
       "      <th>word_count</th>\n",
       "    </tr>\n",
       "  </thead>\n",
       "  <tbody>\n",
       "    <tr>\n",
       "      <th>0</th>\n",
       "      <td>0</td>\n",
       "      <td>5</td>\n",
       "      <td>This book was the very first bookmobile book I...</td>\n",
       "      <td>50 + years ago...</td>\n",
       "      <td>Rating: 5 Title: 50 + years ago... Content: Th...</td>\n",
       "      <td>69</td>\n",
       "    </tr>\n",
       "    <tr>\n",
       "      <th>1</th>\n",
       "      <td>3</td>\n",
       "      <td>5</td>\n",
       "      <td>I don't normally buy 'mystery' novels because ...</td>\n",
       "      <td>Very good read.</td>\n",
       "      <td>Rating: 5 Title: Very good read. Content: I do...</td>\n",
       "      <td>73</td>\n",
       "    </tr>\n",
       "    <tr>\n",
       "      <th>2</th>\n",
       "      <td>4</td>\n",
       "      <td>5</td>\n",
       "      <td>This isn't the kind of book I normally read, a...</td>\n",
       "      <td>Great Story!</td>\n",
       "      <td>Rating: 5 Title: Great Story! Content: This is...</td>\n",
       "      <td>77</td>\n",
       "    </tr>\n",
       "    <tr>\n",
       "      <th>3</th>\n",
       "      <td>6</td>\n",
       "      <td>3</td>\n",
       "      <td>I bought this book because I loved the cover a...</td>\n",
       "      <td>Hot Civil War Read... I wanted more Romance</td>\n",
       "      <td>Rating: 3 Title: Hot Civil War Read... I wante...</td>\n",
       "      <td>123</td>\n",
       "    </tr>\n",
       "    <tr>\n",
       "      <th>4</th>\n",
       "      <td>7</td>\n",
       "      <td>5</td>\n",
       "      <td>This was a book that I thoroughly enjoyed from...</td>\n",
       "      <td>Wow and wonderful read with a twist</td>\n",
       "      <td>Rating: 5 Title: Wow and wonderful read with a...</td>\n",
       "      <td>81</td>\n",
       "    </tr>\n",
       "  </tbody>\n",
       "</table>\n",
       "</div>"
      ],
      "text/plain": [
       "   Unnamed: 0  rating                                         reviewText  \\\n",
       "0           0       5  This book was the very first bookmobile book I...   \n",
       "1           3       5  I don't normally buy 'mystery' novels because ...   \n",
       "2           4       5  This isn't the kind of book I normally read, a...   \n",
       "3           6       3  I bought this book because I loved the cover a...   \n",
       "4           7       5  This was a book that I thoroughly enjoyed from...   \n",
       "\n",
       "                                       summary  \\\n",
       "0                            50 + years ago...   \n",
       "1                              Very good read.   \n",
       "2                                 Great Story!   \n",
       "3  Hot Civil War Read... I wanted more Romance   \n",
       "4          Wow and wonderful read with a twist   \n",
       "\n",
       "                                              review  word_count  \n",
       "0  Rating: 5 Title: 50 + years ago... Content: Th...          69  \n",
       "1  Rating: 5 Title: Very good read. Content: I do...          73  \n",
       "2  Rating: 5 Title: Great Story! Content: This is...          77  \n",
       "3  Rating: 3 Title: Hot Civil War Read... I wante...         123  \n",
       "4  Rating: 5 Title: Wow and wonderful read with a...          81  "
      ]
     },
     "execution_count": 3,
     "metadata": {},
     "output_type": "execute_result"
    }
   ],
   "source": [
    "df.head()"
   ]
  },
  {
   "cell_type": "code",
   "execution_count": 4,
   "id": "d2e3210b-4030-411c-bd36-f85cb049b937",
   "metadata": {},
   "outputs": [
    {
     "data": {
      "text/html": [
       "<div>\n",
       "<style scoped>\n",
       "    .dataframe tbody tr th:only-of-type {\n",
       "        vertical-align: middle;\n",
       "    }\n",
       "\n",
       "    .dataframe tbody tr th {\n",
       "        vertical-align: top;\n",
       "    }\n",
       "\n",
       "    .dataframe thead th {\n",
       "        text-align: right;\n",
       "    }\n",
       "</style>\n",
       "<table border=\"1\" class=\"dataframe\">\n",
       "  <thead>\n",
       "    <tr style=\"text-align: right;\">\n",
       "      <th></th>\n",
       "      <th>Unnamed: 0</th>\n",
       "      <th>rating</th>\n",
       "      <th>reviewText</th>\n",
       "      <th>summary</th>\n",
       "      <th>review</th>\n",
       "      <th>word_count</th>\n",
       "    </tr>\n",
       "  </thead>\n",
       "  <tbody>\n",
       "    <tr>\n",
       "      <th>0</th>\n",
       "      <td>541</td>\n",
       "      <td>4</td>\n",
       "      <td>This book begins with an overview of how your ...</td>\n",
       "      <td>Short, but has interesting information on how ...</td>\n",
       "      <td>Rating: 4 Title: Short, but has interesting in...</td>\n",
       "      <td>266</td>\n",
       "    </tr>\n",
       "    <tr>\n",
       "      <th>1</th>\n",
       "      <td>542</td>\n",
       "      <td>4</td>\n",
       "      <td>I gave it a four only because it lagged in the...</td>\n",
       "      <td>Surprisingly Good</td>\n",
       "      <td>Rating: 4 Title: Surprisingly Good Content: I ...</td>\n",
       "      <td>52</td>\n",
       "    </tr>\n",
       "    <tr>\n",
       "      <th>2</th>\n",
       "      <td>543</td>\n",
       "      <td>5</td>\n",
       "      <td>How anyone could possibly complain about getti...</td>\n",
       "      <td>A whole lot of magic for less than a dollar</td>\n",
       "      <td>Rating: 5 Title: A whole lot of magic for less...</td>\n",
       "      <td>172</td>\n",
       "    </tr>\n",
       "    <tr>\n",
       "      <th>3</th>\n",
       "      <td>545</td>\n",
       "      <td>1</td>\n",
       "      <td>This Is The Worse Book I Have Ever Read!!!! Oh...</td>\n",
       "      <td>The Worse Book I Have Ever Read!!!!</td>\n",
       "      <td>Rating: 1 Title: The Worse Book I Have Ever Re...</td>\n",
       "      <td>43</td>\n",
       "    </tr>\n",
       "    <tr>\n",
       "      <th>4</th>\n",
       "      <td>546</td>\n",
       "      <td>3</td>\n",
       "      <td>I picked this up as a freebie on my Amazon Kin...</td>\n",
       "      <td>Something to read but not wonderful</td>\n",
       "      <td>Rating: 3 Title: Something to read but not won...</td>\n",
       "      <td>149</td>\n",
       "    </tr>\n",
       "  </tbody>\n",
       "</table>\n",
       "</div>"
      ],
      "text/plain": [
       "   Unnamed: 0  rating                                         reviewText  \\\n",
       "0         541       4  This book begins with an overview of how your ...   \n",
       "1         542       4  I gave it a four only because it lagged in the...   \n",
       "2         543       5  How anyone could possibly complain about getti...   \n",
       "3         545       1  This Is The Worse Book I Have Ever Read!!!! Oh...   \n",
       "4         546       3  I picked this up as a freebie on my Amazon Kin...   \n",
       "\n",
       "                                             summary  \\\n",
       "0  Short, but has interesting information on how ...   \n",
       "1                                  Surprisingly Good   \n",
       "2        A whole lot of magic for less than a dollar   \n",
       "3                The Worse Book I Have Ever Read!!!!   \n",
       "4                Something to read but not wonderful   \n",
       "\n",
       "                                              review  word_count  \n",
       "0  Rating: 4 Title: Short, but has interesting in...         266  \n",
       "1  Rating: 4 Title: Surprisingly Good Content: I ...          52  \n",
       "2  Rating: 5 Title: A whole lot of magic for less...         172  \n",
       "3  Rating: 1 Title: The Worse Book I Have Ever Re...          43  \n",
       "4  Rating: 3 Title: Something to read but not won...         149  "
      ]
     },
     "execution_count": 4,
     "metadata": {},
     "output_type": "execute_result"
    }
   ],
   "source": [
    "test_df.head()"
   ]
  },
  {
   "cell_type": "code",
   "execution_count": null,
   "id": "ad346348-f1c2-4cdf-bc27-1d2ae721ff53",
   "metadata": {},
   "outputs": [],
   "source": [
    "#test_reviews = test_df[\"reviewText\"].tolist()"
   ]
  },
  {
   "cell_type": "markdown",
   "id": "44e75440-2c1a-43a1-a13d-ab0cce0f1b38",
   "metadata": {},
   "source": [
    "# Test Base Model"
   ]
  },
  {
   "cell_type": "markdown",
   "id": "aaf941fa-3c3c-4599-826f-38af66a0fc6c",
   "metadata": {},
   "source": [
    "The base model doesn't really give any meaningful rating. It was unable to perform sentiment analysis."
   ]
  },
  {
   "cell_type": "code",
   "execution_count": 5,
   "id": "47951171-88ae-43ea-a837-bdd2aee7a42d",
   "metadata": {},
   "outputs": [
    {
     "name": "stderr",
     "output_type": "stream",
     "text": [
      "The attention mask is not set and cannot be inferred from input because pad token is same as eos token. As a consequence, you may observe unexpected behavior. Please pass your input's `attention_mask` to obtain reliable results.\n"
     ]
    },
    {
     "data": {
      "text/html": [
       "<div>\n",
       "<style scoped>\n",
       "    .dataframe tbody tr th:only-of-type {\n",
       "        vertical-align: middle;\n",
       "    }\n",
       "\n",
       "    .dataframe tbody tr th {\n",
       "        vertical-align: top;\n",
       "    }\n",
       "\n",
       "    .dataframe thead th {\n",
       "        text-align: right;\n",
       "    }\n",
       "</style>\n",
       "<table border=\"1\" class=\"dataframe\">\n",
       "  <thead>\n",
       "    <tr style=\"text-align: right;\">\n",
       "      <th></th>\n",
       "      <th>Unnamed: 0</th>\n",
       "      <th>rating</th>\n",
       "      <th>reviewText</th>\n",
       "      <th>summary</th>\n",
       "      <th>review</th>\n",
       "      <th>word_count</th>\n",
       "      <th>based_response</th>\n",
       "    </tr>\n",
       "  </thead>\n",
       "  <tbody>\n",
       "    <tr>\n",
       "      <th>0</th>\n",
       "      <td>541</td>\n",
       "      <td>4</td>\n",
       "      <td>This book begins with an overview of how your ...</td>\n",
       "      <td>Short, but has interesting information on how ...</td>\n",
       "      <td>Rating: 4 Title: Short, but has interesting in...</td>\n",
       "      <td>266</td>\n",
       "      <td>Review: This book begins with an overview of h...</td>\n",
       "    </tr>\n",
       "    <tr>\n",
       "      <th>1</th>\n",
       "      <td>542</td>\n",
       "      <td>4</td>\n",
       "      <td>I gave it a four only because it lagged in the...</td>\n",
       "      <td>Surprisingly Good</td>\n",
       "      <td>Rating: 4 Title: Surprisingly Good Content: I ...</td>\n",
       "      <td>52</td>\n",
       "      <td>Review: I gave it a four only because it lagge...</td>\n",
       "    </tr>\n",
       "    <tr>\n",
       "      <th>2</th>\n",
       "      <td>543</td>\n",
       "      <td>5</td>\n",
       "      <td>How anyone could possibly complain about getti...</td>\n",
       "      <td>A whole lot of magic for less than a dollar</td>\n",
       "      <td>Rating: 5 Title: A whole lot of magic for less...</td>\n",
       "      <td>172</td>\n",
       "      <td>Review: How anyone could possibly complain abo...</td>\n",
       "    </tr>\n",
       "    <tr>\n",
       "      <th>3</th>\n",
       "      <td>545</td>\n",
       "      <td>1</td>\n",
       "      <td>This Is The Worse Book I Have Ever Read!!!! Oh...</td>\n",
       "      <td>The Worse Book I Have Ever Read!!!!</td>\n",
       "      <td>Rating: 1 Title: The Worse Book I Have Ever Re...</td>\n",
       "      <td>43</td>\n",
       "      <td>Review: This Is The Worse Book I Have Ever Rea...</td>\n",
       "    </tr>\n",
       "    <tr>\n",
       "      <th>4</th>\n",
       "      <td>546</td>\n",
       "      <td>3</td>\n",
       "      <td>I picked this up as a freebie on my Amazon Kin...</td>\n",
       "      <td>Something to read but not wonderful</td>\n",
       "      <td>Rating: 3 Title: Something to read but not won...</td>\n",
       "      <td>149</td>\n",
       "      <td>Review: I picked this up as a freebie on my Am...</td>\n",
       "    </tr>\n",
       "  </tbody>\n",
       "</table>\n",
       "</div>"
      ],
      "text/plain": [
       "   Unnamed: 0  rating                                         reviewText  \\\n",
       "0         541       4  This book begins with an overview of how your ...   \n",
       "1         542       4  I gave it a four only because it lagged in the...   \n",
       "2         543       5  How anyone could possibly complain about getti...   \n",
       "3         545       1  This Is The Worse Book I Have Ever Read!!!! Oh...   \n",
       "4         546       3  I picked this up as a freebie on my Amazon Kin...   \n",
       "\n",
       "                                             summary  \\\n",
       "0  Short, but has interesting information on how ...   \n",
       "1                                  Surprisingly Good   \n",
       "2        A whole lot of magic for less than a dollar   \n",
       "3                The Worse Book I Have Ever Read!!!!   \n",
       "4                Something to read but not wonderful   \n",
       "\n",
       "                                              review  word_count  \\\n",
       "0  Rating: 4 Title: Short, but has interesting in...         266   \n",
       "1  Rating: 4 Title: Surprisingly Good Content: I ...          52   \n",
       "2  Rating: 5 Title: A whole lot of magic for less...         172   \n",
       "3  Rating: 1 Title: The Worse Book I Have Ever Re...          43   \n",
       "4  Rating: 3 Title: Something to read but not won...         149   \n",
       "\n",
       "                                      based_response  \n",
       "0  Review: This book begins with an overview of h...  \n",
       "1  Review: I gave it a four only because it lagge...  \n",
       "2  Review: How anyone could possibly complain abo...  \n",
       "3  Review: This Is The Worse Book I Have Ever Rea...  \n",
       "4  Review: I picked this up as a freebie on my Am...  "
      ]
     },
     "execution_count": 5,
     "metadata": {},
     "output_type": "execute_result"
    }
   ],
   "source": [
    "# Load model and tokenizer\n",
    "checkpoint = \"HuggingFaceTB/SmolLM2-1.7B-Instruct\"\n",
    "device = \"cuda\" if torch.cuda.is_available() else \"cpu\" # cpu or gpu depend on availability\n",
    "\n",
    "tokenizer = AutoTokenizer.from_pretrained(checkpoint)\n",
    "model = AutoModelForCausalLM.from_pretrained(checkpoint).to(device)  # or \"cpu\" based on your setup\n",
    "\n",
    "# Function to generate model output\n",
    "def get_model_response(review_text, device):\n",
    "    # Format the question (rating prediction example)\n",
    "    question = f\"Review: {review_text}\\n\\nSentiment: Please provide a sentiment rating from 1 to 5, where:\\n1 = Very Negative, 2 = Negative, 3 = Neutral, 4 = Positive, 5 = Very Positive.\\n\\nRating:\"\n",
    "    \n",
    "    # Tokenize input\n",
    "    inputs = tokenizer(question, return_tensors=\"pt\").to(device)\n",
    "    \n",
    "    # Generate model output\n",
    "    outputs = model.generate(inputs.input_ids, max_new_tokens=50, temperature=0.7, top_p=0.9, do_sample=True)\n",
    "    \n",
    "    # Decode the output\n",
    "    response = tokenizer.decode(outputs[0], skip_special_tokens=True)\n",
    "    \n",
    "    return response\n",
    "\n",
    "# Test set predictions\n",
    "predictions = []\n",
    "for idx, row in test_df.iterrows():\n",
    "    review_text = row['reviewText']  # Replace with your actual column name for review text\n",
    "    model_response = get_model_response(review_text, device)  # Replace with \"cpu\" if using CPU\n",
    "    predictions.append(model_response)\n",
    "\n",
    "# Add predictions to DataFrame\n",
    "test_df['based_response'] = predictions\n",
    "\n",
    "test_df.head()"
   ]
  },
  {
   "cell_type": "code",
   "execution_count": 6,
   "id": "c83502dc-6554-4ad1-8e43-6ab854a8ddd7",
   "metadata": {},
   "outputs": [
    {
     "name": "stdout",
     "output_type": "stream",
     "text": [
      "Review: This book to me was sweet but way too short there was just so much more i need to know about what happens in their lives. I have enjoyed many books by Pepper Espinoza and like them all this was beautifully written. Josh and Peter's tale of finding each other was heart warming. Sometimes the thing you need most in you life is standing right in front of you and you just need to open your eye's and see it. I liked the fact that Josh and Peter Both found what they needed and now i just need to plead with Pepper \"I need More\"...\n",
      "\n",
      "Sentiment: Please provide a sentiment rating from 1 to 5, where:\n",
      "1 = Very Negative, 2 = Negative, 3 = Neutral, 4 = Positive, 5 = Very Positive.\n",
      "\n",
      "Rating:\n"
     ]
    }
   ],
   "source": [
    "print(test_df.loc[5, 'based_response'])"
   ]
  },
  {
   "cell_type": "code",
   "execution_count": 7,
   "id": "a4b5026f-adb9-4b64-8808-5e2ed4a41202",
   "metadata": {},
   "outputs": [],
   "source": [
    "sample = pd.read_csv(\"sample_review.csv\")"
   ]
  },
  {
   "cell_type": "markdown",
   "id": "970b1fd8-7894-4e6a-965a-3b8934a46ab0",
   "metadata": {},
   "source": [
    "# Fine-tuning"
   ]
  },
  {
   "cell_type": "code",
   "execution_count": 8,
   "id": "d430b401-ebac-4002-b69f-8dc8b40569e4",
   "metadata": {},
   "outputs": [],
   "source": [
    "# Define model checkpoint\n",
    "checkpoint = \"HuggingFaceTB/SmolLM2-1.7B-Instruct\"\n",
    "\n",
    "# Load tokenizer\n",
    "tokenizer = AutoTokenizer.from_pretrained(checkpoint)\n",
    "\n",
    "# Load base model\n",
    "model = AutoModelForCausalLM.from_pretrained(\n",
    "    checkpoint, \n",
    "    torch_dtype=torch.float16,  # Use float16 for efficiency\n",
    "    device_map=\"auto\"  # Auto-select GPU/CPU\n",
    ")"
   ]
  },
  {
   "cell_type": "code",
   "execution_count": 9,
   "id": "28e39dbd-024e-4185-838f-99c2164be88a",
   "metadata": {},
   "outputs": [
    {
     "name": "stderr",
     "output_type": "stream",
     "text": [
      "The installed version of bitsandbytes was compiled without GPU support. 8-bit optimizers, 8-bit multiplication, and GPU quantization are unavailable.\n"
     ]
    },
    {
     "name": "stdout",
     "output_type": "stream",
     "text": [
      "trainable params: 1,572,864 || all params: 1,712,949,248 || trainable%: 0.0918\n"
     ]
    }
   ],
   "source": [
    "# Define LoRA config\n",
    "lora_config = LoraConfig(\n",
    "    r=8,  # Rank of LoRA update matrices\n",
    "    lora_alpha=32,  # Scaling factor\n",
    "    lora_dropout=0.1,  # Dropout probability\n",
    "    target_modules=[\"q_proj\", \"v_proj\"],  # Fine-tune attention layers only\n",
    "    bias=\"none\",\n",
    "    task_type=\"CAUSAL_LM\"\n",
    ")\n",
    "\n",
    "# Wrap model with LoRA adapter\n",
    "model = get_peft_model(model, lora_config)\n",
    "model.print_trainable_parameters()"
   ]
  },
  {
   "cell_type": "code",
   "execution_count": 13,
   "id": "8561332f-77e6-41f7-9690-e9c9ad979eba",
   "metadata": {},
   "outputs": [
    {
     "data": {
      "application/vnd.jupyter.widget-view+json": {
       "model_id": "0c42c46ce1e749778ac6816814fa2dc5",
       "version_major": 2,
       "version_minor": 0
      },
      "text/plain": [
       "Map:   0%|          | 0/5 [00:00<?, ? examples/s]"
      ]
     },
     "metadata": {},
     "output_type": "display_data"
    }
   ],
   "source": [
    "dataset = Dataset.from_pandas(sample[['reviewText', 'rating']])\n",
    "\n",
    "dataset = dataset.rename_column('reviewText', 'text')  # Rename the text column to 'text'\n",
    "dataset = dataset.rename_column('rating', 'label')    # Rename the rating column to 'label' (or keep it as 'rating' if it's for regression)\n",
    "\n",
    "def tokenize_function(examples):\n",
    "    return tokenizer(examples[\"text\"], padding=\"max_length\", truncation=True)\n",
    "\n",
    "tokenized_datasets = dataset.map(tokenize_function, batched=True)\n",
    "#train_dataset = tokenized_datasets"
   ]
  },
  {
   "cell_type": "code",
   "execution_count": 14,
   "id": "42adbf57-8b5b-49c3-8df8-dc5170efa955",
   "metadata": {},
   "outputs": [
    {
     "data": {
      "text/plain": [
       "Dataset({\n",
       "    features: ['text', 'label', 'input_ids', 'attention_mask'],\n",
       "    num_rows: 5\n",
       "})"
      ]
     },
     "execution_count": 14,
     "metadata": {},
     "output_type": "execute_result"
    }
   ],
   "source": [
    "tokenized_datasets"
   ]
  },
  {
   "cell_type": "code",
   "execution_count": null,
   "id": "1e2daeda-0698-4969-b2f4-cf3b3e1330dd",
   "metadata": {},
   "outputs": [],
   "source": [
    "from transformers import TrainingArguments, Trainer\n",
    "\n",
    "training_args = TrainingArguments(\n",
    "    output_dir=\"./finetuned_model\",  \n",
    "    per_device_train_batch_size=4,  \n",
    "    num_train_epochs=3,  \n",
    "    learning_rate=2e-4,  \n",
    "    fp16=True,  \n",
    "    save_strategy=\"epoch\",  \n",
    "    logging_dir=\"./logs\"\n",
    ")\n",
    "\n",
    "trainer = Trainer(\n",
    "    model=model,\n",
    "    args=training_args,\n",
    "    train_dataset=tokenized_datasets\n",
    ")\n",
    "\n",
    "# Start fine-tuning with LoRA\n",
    "trainer.train()"
   ]
  },
  {
   "cell_type": "markdown",
   "id": "16f537c5-ff28-4c70-9ebc-6d45d5691116",
   "metadata": {},
   "source": [
    "# Save Model"
   ]
  },
  {
   "cell_type": "code",
   "execution_count": null,
   "id": "f07f56ab-9000-4db0-b3a3-065e8f43f48e",
   "metadata": {},
   "outputs": [],
   "source": [
    "model.save_pretrained(\"finetuned_smolLM\")\n",
    "tokenizer.save_pretrained(\"finetuned_smolLM\")\n",
    "\n",
    "model.push_to_hub(\"your-hf-username/finetuned_smolLM\")\n",
    "tokenizer.push_to_hub(\"your-hf-username/finetuned_smolLM\")"
   ]
  },
  {
   "cell_type": "markdown",
   "id": "09abbbee-b499-46ad-b217-087d1775fe8e",
   "metadata": {},
   "source": [
    "# Test Fine-tuned Model"
   ]
  },
  {
   "cell_type": "code",
   "execution_count": null,
   "id": "f7ce0e6a-5f5c-4fe1-85d8-0701583d4d18",
   "metadata": {},
   "outputs": [],
   "source": [
    "# Load model and tokenizer\n",
    "checkpoint = \"HuggingFaceTB/SmolLM2-1.7B-Instruct\"\n",
    "device = \"cuda\" if torch.cuda.is_available() else \"cpu\" # cpu or gpu depend on availability\n",
    "\n",
    "tokenizer = AutoTokenizer.from_pretrained(checkpoint)\n",
    "model = AutoModelForCausalLM.from_pretrained(checkpoint).to(device)  # or \"cpu\" based on your setup\n",
    "\n",
    "# Function to generate model output\n",
    "def get_model_response(review_text, device):\n",
    "    # Format the question (rating prediction example)\n",
    "    question = f\"Review: {review_text}\\n\\nSentiment: Please provide a sentiment rating from 1 to 5, where:\\n1 = Very Negative, 2 = Negative, 3 = Neutral, 4 = Positive, 5 = Very Positive.\\n\\nRating:\"\n",
    "    \n",
    "    # Tokenize input\n",
    "    inputs = tokenizer(question, return_tensors=\"pt\").to(device)\n",
    "    \n",
    "    # Generate model output\n",
    "    outputs = model.generate(inputs.input_ids, max_new_tokens=50, temperature=0.7, top_p=0.9, do_sample=True)\n",
    "    \n",
    "    # Decode the output\n",
    "    response = tokenizer.decode(outputs[0], skip_special_tokens=True)\n",
    "    \n",
    "    return response\n",
    "\n",
    "# Test set predictions\n",
    "predictions = []\n",
    "for idx, row in test_df.iterrows():\n",
    "    review_text = row['reviewText']  # Replace with your actual column name for review text\n",
    "    model_response = get_model_response(review_text, device)  # Replace with \"cpu\" if using CPU\n",
    "    predictions.append(model_response)\n",
    "\n",
    "# Add predictions to DataFrame\n",
    "test_df['finetuned_response'] = predictions\n",
    "\n",
    "test_df.head()"
   ]
  }
 ],
 "metadata": {
  "kernelspec": {
   "display_name": "Python 3 (ipykernel)",
   "language": "python",
   "name": "python3"
  },
  "language_info": {
   "codemirror_mode": {
    "name": "ipython",
    "version": 3
   },
   "file_extension": ".py",
   "mimetype": "text/x-python",
   "name": "python",
   "nbconvert_exporter": "python",
   "pygments_lexer": "ipython3",
   "version": "3.12.4"
  }
 },
 "nbformat": 4,
 "nbformat_minor": 5
}
